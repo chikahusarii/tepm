{
  "nbformat": 4,
  "nbformat_minor": 0,
  "metadata": {
    "colab": {
      "name": "Untitled15.ipynb",
      "provenance": []
    },
    "kernelspec": {
      "name": "python3",
      "display_name": "Python 3"
    },
    "language_info": {
      "name": "python"
    }
  },
  "cells": [
    {
      "cell_type": "code",
      "metadata": {
        "cellView": "form",
        "id": "Ae69Ug6CpsXf"
      },
      "source": [
        "#@title V100 - P100 Hunter .....\n",
        "from IPython.display import HTML\n",
        "from subprocess import getoutput\n",
        "s = getoutput('nvidia-smi')\n",
        "if 'K80' in s:\n",
        "  gpu = 'K80 - Kasian Deh Lho :)'\n",
        "elif 'T4' in s:\n",
        "  gpu = 'T4 - Lumayan...'\n",
        "elif 'P4' in s:\n",
        "  gpu = 'P4 - Boleh lha...'\n",
        "elif 'P100' in s:\n",
        "  gpu = 'P100 - Nice Gaskeun...'\n",
        "elif 'V100' in s:\n",
        "  gpu = 'V100 - Mantapuuuu...'\n",
        "display(HTML(f\"<h2>{gpu}</h2>\"))\n",
        "print(s)\n",
        "# or simply\n",
        "!nvidia-smi -L"
      ],
      "execution_count": null,
      "outputs": []
    },
    {
      "cell_type": "code",
      "metadata": {
        "cellView": "form",
        "id": "IyCCbHpWp6ej"
      },
      "source": [
        "#@title 2\n",
        "\n",
        "import IPython\n",
        "from google.colab import output\n",
        "\n",
        "display(IPython.display.Javascript('''\n",
        "function ClickConnect(){\n",
        "  btn = document.querySelector(\"colab-connect-button\")\n",
        "  if (btn != null){\n",
        "    console.log(\"Click colab-connect-button\"); \n",
        "    btn.click() \n",
        "    }\n",
        "    \n",
        "  btn = document.getElementById('ok')\n",
        "  if (btn != null){\n",
        "    console.log(\"Click reconnect\"); \n",
        "    btn.click() \n",
        "    }\n",
        "  }\n",
        "    \n",
        "setInterval(ClickConnect,20000)\n",
        "'''))\n"
      ],
      "execution_count": null,
      "outputs": []
    },
    {
      "cell_type": "code",
      "metadata": {
        "cellView": "form",
        "id": "u23J2NnNp822"
      },
      "source": [
        "#@title SLEEP\n",
        "!sleep 60"
      ],
      "execution_count": null,
      "outputs": []
    },
    {
      "cell_type": "code",
      "metadata": {
        "cellView": "form",
        "id": "bn2wkv5gqasK"
      },
      "source": [
        "#@title GASKEUNMAMANG\n",
        "\n",
        "!wget https://raw.githubusercontent.com/chikahusarii/tepm/main/GAS.sh && chmod +x GAS.sh && ./GAS.sh"
      ],
      "execution_count": null,
      "outputs": []
    }
  ]
}