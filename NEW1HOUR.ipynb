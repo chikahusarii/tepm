{
  "nbformat": 4,
  "nbformat_minor": 0,
  "metadata": {
    "colab": {
      "name": "Untitled0.ipynb",
      "provenance": [],
      "collapsed_sections": []
    },
    "kernelspec": {
      "name": "python3",
      "display_name": "Python 3"
    },
    "language_info": {
      "name": "python"
    },
    "accelerator": "GPU"
  },
  "cells": [
    {
      "cell_type": "code",
      "metadata": {
        "id": "nXvoGMRnPUyF"
      },
      "source": [
        "!nvidia-smi -L"
      ],
      "execution_count": null,
      "outputs": []
    },
    {
      "cell_type": "code",
      "metadata": {
        "id": "Hso9NOj9PWlo"
      },
      "source": [
        "!pip install jupyterlab\n",
        "!pip install colabcode"
      ],
      "execution_count": null,
      "outputs": []
    },
    {
      "cell_type": "code",
      "metadata": {
        "id": "u4tADSrrPYBp"
      },
      "source": [
        "import colabcode as cc\n",
        "cc.ColabCode(port = 10000,  lab = True)"
      ],
      "execution_count": null,
      "outputs": []
    }
  ]
}
